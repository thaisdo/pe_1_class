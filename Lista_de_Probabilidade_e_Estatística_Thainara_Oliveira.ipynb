{
  "nbformat": 4,
  "nbformat_minor": 0,
  "metadata": {
    "colab": {
      "provenance": [],
      "collapsed_sections": [],
      "authorship_tag": "ABX9TyMK3Gx2u/zqs+oBnVDe7JqD"
    },
    "kernelspec": {
      "name": "python3",
      "display_name": "Python 3"
    },
    "language_info": {
      "name": "python"
    }
  },
  "cells": [
    {
      "cell_type": "code",
      "metadata": {
        "colab": {
          "base_uri": "https://localhost:8080/"
        },
        "id": "etsymxxuMyiE",
        "outputId": "69db1495-3ba9-4e63-f34a-344cc3b95619"
      },
      "source": [
        "#Probabilidade e Estatística\n",
        "#1 - letra A até F\n",
        "import statistics \n",
        "from scipy.stats.mstats import gmean #bibliotecas\n",
        "\n",
        "lista1 = [10, 13, 17, 9, 8, 11, 13, 7] #valores da lista\n",
        "print(\"Letra a) A média aritmética simples é:\", statistics.mean(lista1)) #importei da biblioteca o método da média(mean), o chamei na lista e pedi para mostrar o resultado\n",
        "print(\"Letra b) A média harmônica é:\", statistics.harmonic_mean(lista1)) #importei da biblioteca o método da média harmônica(harmonic_mean), o chamei na lista e pedi para mostrar o resultado\n",
        "print(\"Letra c) A média geométrica é:\", gmean(lista1)) #importei da biblioteca o método da média geométrica(gmean), o chamei na lista e pedi para mostrar o resultado\n",
        "print(\"Letra d) A moda da lista é:\", statistics.mode(lista1)) #importei da biblioteca o método da moda(.mode), o chamei na lista e pedi para mostrar o resultado\n",
        "print(\"Letra e) A variância da lista é:\", statistics.variance(lista1)) #importei da biblioteca o método da variância(.variance), o chamei na lista e pedi para mostrar o resultado\n",
        "print(\"Letra f) O desvio padrão da lista é:\", statistics.stdev(lista1)) #importei da biblioteca o método do desvio padrão(.stedev), o chamei na lista e pedi para mostrar o resultado"
      ],
      "execution_count": null,
      "outputs": [
        {
          "output_type": "stream",
          "name": "stdout",
          "text": [
            "Letra a) A média aritmética simples é: 11\n",
            "Letra b) A média harmônica é: 10.223027770053966\n",
            "Letra c) A média geométrica é: 10.599121142601566\n",
            "Letra d) A moda da lista é: 13\n",
            "Letra e) A variância da lista é: 10.571428571428571\n",
            "Letra f) O desvio padrão da lista é: 3.251373336211726\n"
          ]
        }
      ]
    },
    {
      "cell_type": "code",
      "metadata": {
        "colab": {
          "base_uri": "https://localhost:8080/"
        },
        "id": "eQI3XPuhNbhJ",
        "outputId": "9a3b049a-7918-4f8b-ee1a-cf9e54d9a791"
      },
      "source": [
        "%reset -f\n",
        "#Probabilidade e Estatística\n",
        "#2 - letra A até E\n",
        "import statistics \n",
        "from scipy.stats.mstats import gmean #bibliotecas\n",
        "\n",
        "lista2 = [67, 75, 63, 72, 77, 78, 81, 77, 80] #valores da lista\n",
        "print(\"Letra a)\")\n",
        "print(\"A média aritmética simples é:\", statistics.mean(lista2)) #cálculo da média\n",
        "print(\"A média harmônica é:\", statistics.harmonic_mean(lista2)) #cálculo da média harmônica\n",
        "print(\"A média geométrica é:\", gmean(lista2)) #cálculo da média geométrica\n",
        "print(\"Letra b) A moda da lista é:\", statistics.mode(lista2)) #cálculo da moda\n",
        "print(\"Letra c) A mediana da lista é:\", statistics.median(lista2)) #cálculo da mediana\n",
        "print(\"Letra d) A variância da lista é:\", statistics.variance(lista2)) #cálculo da variância\n",
        "print(\"Letra e) O desvio padrão da lista é:\", statistics.stdev(lista2)) #cálculo do desvio padrão"
      ],
      "execution_count": null,
      "outputs": [
        {
          "output_type": "stream",
          "name": "stdout",
          "text": [
            "Letra a)\n",
            "A média aritmética simples é: 74.44444444444444\n",
            "A média harmônica é: 73.9761521541457\n",
            "A média geométrica é: 74.21566351300045\n",
            "Letra b) A moda da lista é: 77\n",
            "Letra c) A mediana da lista é: 77\n",
            "Letra d) A variância da lista é: 36.52777777777778\n",
            "Letra e) O desvio padrão da lista é: 6.043821454822915\n"
          ]
        }
      ]
    },
    {
      "cell_type": "code",
      "metadata": {
        "colab": {
          "base_uri": "https://localhost:8080/"
        },
        "id": "0zA4Y_lSRAaw",
        "outputId": "6490b649-ad1a-4ab5-fa4e-4f956ac38b13"
      },
      "source": [
        "%reset -f \n",
        "#Probabilidade e Estatística\n",
        "#3 coeficiente de variação\n",
        "import statistics #biblioteca \n",
        "\n",
        "lista3 = [4, 4.5, 5, 5, 5, 5.5, 6, 6, 6.5, 6.5, 6.5, 6.5, 7, 7, 7, 7, 7, 7, 7.5, 8.5, 9, 9, 9, 9.5, 10, 10, 10.5, 10.5, 11, 12, 12.5, 13, 13] #valores da lista\n",
        "print(\"O desvio padrão da lista é\", statistics.stdev(lista3)) #cálculo do desvio padrão\n",
        "print(\"A média da lista é\", statistics.mean(lista3)) #cálculo da média\n",
        "cov3 = statistics.stdev(lista3) / statistics.mean(lista3) #fórmula do coeficiente de variação (desvio dividido pela media)\n",
        "print(\"O coeficiente de variação é de:\", cov3) #resultado da fórmula"
      ],
      "execution_count": null,
      "outputs": [
        {
          "output_type": "stream",
          "name": "stdout",
          "text": [
            "O desvio padrão da lista é 2.537222891273055\n",
            "A média da lista é 8.0\n",
            "O coeficiente de variação é de: 0.31715286140913185\n"
          ]
        }
      ]
    },
    {
      "cell_type": "code",
      "metadata": {
        "id": "iroM6bqJVxui",
        "colab": {
          "base_uri": "https://localhost:8080/"
        },
        "outputId": "ddbea6db-d556-4909-8b4c-965ba1766bf6"
      },
      "source": [
        "%reset -f\n",
        "#Probabilidade e Estatística\n",
        "#4 - letra A até C\n",
        "import statistics #bibliotecas\n",
        "\n",
        "lista4 = [12, 15, 18, 22, 17, 14, 18, 23, 29, 12] #valores da lista \\ list values\n",
        "print(\"Durante 10 anos a produção média de café foi de:\", statistics.mean(lista4), \"toneladas.\") #cálculo media simples \\ averaging\n",
        "print(\"Durante 10 anos a produção mediana de café foi de:\", statistics.median(lista4), \"toneladas.\") #cálculo mediana \\median calculation\n",
        "print(\"Durante 10 anos a produção de café teve de desvio padrão cerca de\", statistics.stdev(lista4), \"toneladas.\") #cálculo do desvio padrão \\ standard deviation calculation"
      ],
      "execution_count": null,
      "outputs": [
        {
          "output_type": "stream",
          "name": "stdout",
          "text": [
            "Durante 10 anos a produção média de café foi de: 18 toneladas.\n",
            "Durante 10 anos a produção mediana de café foi de: 17.5 toneladas.\n",
            "Durante 10 anos a produção de café teve de desvio padrão cerca de 5.374838498865699 toneladas.\n"
          ]
        }
      ]
    },
    {
      "cell_type": "code",
      "metadata": {
        "colab": {
          "base_uri": "https://localhost:8080/"
        },
        "id": "OeIay3EPBfrZ",
        "outputId": "4474e402-a2e7-476c-9f00-d7982541a524"
      },
      "source": [
        "%reset -f\n",
        "#Probabilidade e Estatística\n",
        "#5\n",
        "from scipy.stats.mstats import gmean #bibliotecas\n",
        "import statistics\n",
        "\n",
        "valores5 = [] #lista que guarda os valores digitados pelo usuário\n",
        "while(True): #método que diz enquanto a condição do if não for verdadeira continuará seguindo com o código\n",
        "  nota = float(input(\"Digite uma nota entre 0 e 10: \")) #pedido pro usuário inserir o valor, decimal ou não, desejado\n",
        "  if (nota == -999): #se o usuário digitar -999 ele saí do programa e aí faz as operações do try\n",
        "    break\n",
        "  if (nota >= 0 and nota <= 10): valores5.append(nota) #validando se o usuário seguiu com a instrução corretamente\n",
        "  else: #se o usuário colocar um valor maior ou menor que o que foi pedido, o programa vai dar erro e aí avisar que ele pode tentar outra vez até ele colocar um valor instruído\n",
        "      print(\"Apenas números entre 0 e 10. Tente mais uma vez.\") #aviso do else\n",
        "try: #assim que o usuário sair do programa usando -999 ele vai pegar os valores da lista que o usuário inseriu e aí fazer todas as operações matemáticas seguintes\n",
        "  mediaAritmeticaSimples = statistics.mean(valores5) #método de cálculo para a média simples\n",
        "  mediaHarmonica = statistics.harmonic_mean(valores5) #método de cálculo para a média harmônica\n",
        "  mediaGeometrica = gmean(valores5) #método de cálculo para a média geométrica\n",
        "  moda = statistics.mode(valores5) #método de cálculo para a moda dos números\n",
        "  variancia = statistics.variance(valores5) #método de cálculo para a variância \n",
        "  desvioPadrao = statistics.stdev(valores5) #método de cálculo para o desvio padrão\n",
        "  coeficienteVariancia = desvioPadrao/mediaAritmeticaSimples #método de cálculo para o coeficiente de variância\n",
        "  print(\"As notas que você digitou: \", valores5) #os números que o usuário digitou no input \n",
        "  print(\"A média dos números inseridos é:\", mediaAritmeticaSimples) #mostra o resultado da média\n",
        "  print(\"A média harmônica dos números inseridos é:\", mediaHarmonica) #mostra o resultado da média harmônica\n",
        "  print(\"A média geométrica dos números inseridos é:\", mediaGeometrica) #mostra o resultado da média geométrica\n",
        "  print(\"A moda dos números inseridos é:\", moda) #mostra o resultado da moda\n",
        "  print(\"A variância dos números inseridos é:\", variancia) #mostra o resultado da variância\n",
        "  print(\"O desvio padrão dos números inseridos é:\", desvioPadrao) #mostra o resultado do desvio padrão\n",
        "  print(\"O coeficiente de variância é:\", coeficienteVariancia) #mostra o resultado do coeficiente de variância\n",
        "except: #exceto se o usuario entrar com -999\n",
        "  print(\"Erro! Digite algum número entre 0 e 10!\") #impressao do erro"
      ],
      "execution_count": null,
      "outputs": [
        {
          "output_type": "stream",
          "name": "stdout",
          "text": [
            "Digite uma nota entre 0 e 10: 9\n",
            "Digite uma nota entre 0 e 10: 8\n",
            "Digite uma nota entre 0 e 10: 8\n",
            "Digite uma nota entre 0 e 10: -999\n",
            "As notas que você digitou:  [9.0, 8.0, 8.0]\n",
            "A média dos números inseridos é: 8.333333333333334\n",
            "A média harmônica dos números inseridos é: 8.307692307692308\n",
            "A média geométrica dos números inseridos é: 8.320335292207616\n",
            "A moda dos números inseridos é: 8.0\n",
            "A variância dos números inseridos é: 0.3333333333333333\n",
            "O desvio padrão dos números inseridos é: 0.5773502691896257\n",
            "O coeficiente de variância é: 0.06928203230275508\n"
          ]
        }
      ]
    },
    {
      "cell_type": "code",
      "metadata": {
        "id": "f4dUI0lydJ29",
        "colab": {
          "base_uri": "https://localhost:8080/"
        },
        "outputId": "edecc9e1-3dd9-466c-b536-a13d861066ec"
      },
      "source": [
        "%reset -f\n",
        "#Probabilidade e Estatística\n",
        "#6\n",
        "import statistics #bibliotecas\n",
        "\n",
        "notas = [] #criando um void\n",
        "pesos = [3,4,3] #pesos na lista\n",
        "for _ in range(3): #limite de números a serem inseridos\n",
        "  while (True): #enquanto a sentença abaixo for verdadeira ela seguirá com o processo \n",
        "    nota = float(input(\"Digite a nota do aluno(a): \")) #pedindo ao usuário para entrar com as notas\n",
        "    if nota >= 0 and nota <= 10: #notas que o aluno pode obter entre 0 e 10\n",
        "      notas.append(nota) #coloca a nota no ultimo lugar da lista\n",
        "      break #saio do loop\n",
        "    else: #se o usuário colocar outro valor de 0 a 10 ele vai dar erro e pedir novamente\n",
        "      print(\"Erro! Digite uma nota que seja apenas entre 0 e 10!\") #aviso de erro e volta pra while e digitar a nota\n",
        "        \n",
        "nota = (notas[0]*pesos[0]) + (notas[1]*pesos[1]) + (notas[2]*pesos[2]) #fórmula das notas com os pesos\n",
        "denominador = sum(pesos) #soma dos pesos\n",
        "MediaPonderada = nota/denominador #calculando a media ponderada; valor das notas já pesadas dividido pela soma dos pesos\n",
        "print(\"A média ponderada das notas digitadas é: \",(MediaPonderada)) #resultado da média ponderada\n",
        "if MediaPonderada < 5: #hipotese(se a média pra passar de ano na escola for 5)\n",
        "  print(\"O aluno(a) está reprovado!\") #igual ou maior a 5 ele\\ela está aprovado\n",
        "else: #menor que 5 ele\\ela está reprovado\n",
        "  print(\"O aluno(a) está aprovado!\")"
      ],
      "execution_count": null,
      "outputs": [
        {
          "output_type": "stream",
          "name": "stdout",
          "text": [
            "Digite a nota do aluno(a): 33\n",
            "Erro! Digite uma nota que seja apenas entre 0 e 10!\n",
            "Digite a nota do aluno(a): 4\n",
            "Digite a nota do aluno(a): 3\n",
            "Digite a nota do aluno(a): 2\n",
            "A média ponderada das notas digitadas é:  3.0\n",
            "O aluno(a) está reprovado!\n"
          ]
        }
      ]
    }
  ]
}